{
 "cells": [
  {
   "cell_type": "markdown",
   "metadata": {
    "deletable": false,
    "editable": false,
    "nbgrader": {
     "cell_type": "markdown",
     "checksum": "2a747369b91572b4ada4e32643e31bca",
     "grade": false,
     "grade_id": "Title",
     "locked": true,
     "schema_version": 3,
     "solution": false,
     "task": false
    }
   },
   "source": [
    "#**EE769 Introduction to Machine Learning**\n",
    "\n",
    "#Assignment 1: Gradient Descent, Linear Regression, and Regularization\n",
    "\n",
    "\n",
    "**Template and Instructions**\n",
    "\n",
    "\n",
    "\n",
    "1. Up to two people can team up, but only one should submit, and both should understand the entire code.\n",
    "2. Every line of code should end in a comment explaining the line\n",
    "3. It is recommended to solve the assignment in Google Colab.\n",
    "Write your roll no.s separated by commas here: \n",
    "4. Write your names here: \n",
    "5. There are two parts to the assignment. In the Part 1, the code format has to be strictly followed to enable auto-grading. In the second part, you can be creative.\n",
    "6. **You can discuss with other groups or refer to the internet without being penalized, but you cannot copy their code and modify it. Write every line of code and comment on your own.**"
   ]
  },
  {
   "cell_type": "markdown",
   "metadata": {
    "deletable": false,
    "editable": false,
    "nbgrader": {
     "cell_type": "markdown",
     "checksum": "cae69541658b406d495bcffe0b7c0932",
     "grade": false,
     "grade_id": "cell-aa1aa8c8181f8810",
     "locked": true,
     "schema_version": 3,
     "solution": false,
     "task": false
    }
   },
   "source": [
    "#**Part 1 begins ...**\n",
    "**Instructions to be strictly followed:**\n",
    "\n",
    "1. Do not add any code cells or markdown cells until the end of this part. Especially, do not change the blocks that say \"TEST CASES, DO NOT CHANGE\"\n",
    "2. In all other cells only add code where it says \"CODE HERE\".\n",
    "3. If you encounter any raise NotImplementedError() calls you may comment them out.\n",
    "\n",
    "We cannot ensure correct grading if you change anything else, and you may be penalised for not following these instructions."
   ]
  },
  {
   "cell_type": "markdown",
   "metadata": {
    "deletable": false,
    "editable": false,
    "nbgrader": {
     "cell_type": "markdown",
     "checksum": "0ecbf8e96219ab11b7716eaae61cb7f9",
     "grade": false,
     "grade_id": "cell-1e940101f37c7af2",
     "locked": true,
     "schema_version": 3,
     "solution": false,
     "task": false
    }
   },
   "source": [
    "## Import Statements"
   ]
  },
  {
   "cell_type": "code",
   "execution_count": null,
   "metadata": {
    "deletable": false,
    "editable": false,
    "nbgrader": {
     "cell_type": "code",
     "checksum": "fe70877a859ee0a10e9d591778022f8a",
     "grade": false,
     "grade_id": "Import_Statements",
     "locked": true,
     "schema_version": 3,
     "solution": false,
     "task": false
    }
   },
   "outputs": [],
   "source": [
    "import numpy as np\n",
    "import pandas as pd\n",
    "from matplotlib import pyplot as plt\n"
   ]
  },
  {
   "cell_type": "markdown",
   "metadata": {
    "deletable": false,
    "editable": false,
    "nbgrader": {
     "cell_type": "markdown",
     "checksum": "e36a214573fc40f26b45e72215d61375",
     "grade": false,
     "grade_id": "Normalize_Title",
     "locked": true,
     "schema_version": 3,
     "solution": false,
     "task": false
    }
   },
   "source": [
    "## Normalize function \n",
    "\n"
   ]
  },
  {
   "cell_type": "code",
   "execution_count": null,
   "metadata": {
    "deletable": false,
    "nbgrader": {
     "cell_type": "code",
     "checksum": "42293dda356d746ac19e9b6d81106261",
     "grade": false,
     "grade_id": "Normalize_Function",
     "locked": false,
     "schema_version": 3,
     "solution": true,
     "task": false
    }
   },
   "outputs": [],
   "source": [
    "def Normalize(X): # Output should be a normalized data matrix of the same dimension\n",
    "    '''\n",
    "    Normalize all columns of X using mean and standard deviation\n",
    "    '''\n",
    "    # YOUR CODE HERE\n",
    "    raise NotImplementedError()"
   ]
  },
  {
   "cell_type": "code",
   "execution_count": null,
   "metadata": {
    "deletable": false,
    "editable": false,
    "nbgrader": {
     "cell_type": "code",
     "checksum": "7797dd606a68f028c945acd08850d108",
     "grade": true,
     "grade_id": "Normalize_Test",
     "locked": true,
     "points": 5,
     "schema_version": 3,
     "solution": false,
     "task": false
    }
   },
   "outputs": [],
   "source": [
    "'''\n",
    "TEST CASES, DO NOT CHANGE\n",
    "'''\n",
    "''' case 1 - 1 dimensional array'''\n",
    "#X=np.array([[1,2,3],[3,4,5],[7,8,9]])\n",
    "X1=np.array([1,2,3])\n",
    "np.testing.assert_array_almost_equal(Normalize(X1),np.array([-1.224,  0.      ,  1.224]),decimal=3)\n",
    "''' case 2 - 2 dimensional array'''\n",
    "X2=np.array([[4,7,6],[3,8,9],[5,11,10]])\n",
    "np.testing.assert_array_almost_equal(Normalize(X2),np.array([[ 0.  , -0.980581, -1.372813],[-1.224745, -0.392232,  0.392232],[ 1.224745,  1.372813,  0.980581]]))\n",
    "''' case 3 - 1 dimensional array with float'''\n",
    "X3=np.array([5.5,6.7,3.2,6.7])\n",
    "np.testing.assert_array_almost_equal(Normalize(X3),np.array([-0.017,  0.822, -1.627,  0.822]),decimal=3)"
   ]
  },
  {
   "cell_type": "markdown",
   "metadata": {
    "deletable": false,
    "editable": false,
    "nbgrader": {
     "cell_type": "markdown",
     "checksum": "63ee774a26a0438a0b2f5ec298eac80e",
     "grade": false,
     "grade_id": "cell-66ab98f84d3c58fa",
     "locked": true,
     "schema_version": 3,
     "solution": false,
     "task": false
    }
   },
   "source": [
    "## Prediction Function\n",
    "\n",
    "Given X and w, compute the predicted output. Do not forget to add 1's in X"
   ]
  },
  {
   "cell_type": "code",
   "execution_count": null,
   "metadata": {
    "deletable": false,
    "nbgrader": {
     "cell_type": "code",
     "checksum": "5976e32bd96bc4bdc2b2efd61e98441c",
     "grade": false,
     "grade_id": "Prediction",
     "locked": false,
     "schema_version": 3,
     "solution": true,
     "task": false
    }
   },
   "outputs": [],
   "source": [
    "def Prediction (X, w): # Output should be a prediction vector y\n",
    "    '''\n",
    "    Compute Prediction given an input datamatrix X and weight vecor w. Output y = [X 1]w where 1 is a vector of all 1s \n",
    "    '''\n",
    "    # YOUR CODE HERE\n",
    "    raise NotImplementedError()\n"
   ]
  },
  {
   "cell_type": "code",
   "execution_count": null,
   "metadata": {
    "deletable": false,
    "editable": false,
    "nbgrader": {
     "cell_type": "code",
     "checksum": "741f088432fb2ac3c49d3c9711d5c9c5",
     "grade": true,
     "grade_id": "PredictionTest",
     "locked": true,
     "points": 5,
     "schema_version": 3,
     "solution": false,
     "task": false
    }
   },
   "outputs": [],
   "source": [
    "'''\n",
    "TEST CASES, DO NOT CHANGE\n",
    "'''\n",
    "''' case 1 - Known input output matrix and weights 1'''\n",
    "X1 = np.array([[3,2],[1,1]])\n",
    "w1 = np.array([2,1,1]) \n",
    "np.testing.assert_array_equal(Prediction(X1,w1),np.array([9,4]))\n"
   ]
  },
  {
   "cell_type": "markdown",
   "metadata": {
    "deletable": false,
    "editable": false,
    "nbgrader": {
     "cell_type": "markdown",
     "checksum": "227f6e0da2f8c6d631599c44041e3b65",
     "grade": false,
     "grade_id": "cell-6fda2832d5967072",
     "locked": true,
     "schema_version": 3,
     "solution": false,
     "task": false
    }
   },
   "source": [
    "## Loss Functions\n",
    "\n",
    "Code the four  loss functions:\n",
    "\n",
    "1. MSE loss is only for the error\n",
    "2. MAE loss is only for the error\n",
    "3. L2 loss is for MSE and L2 regularization, and can call MSE loss\n",
    "4. L1 loss is for MSE and L1 regularization, and can call MSE loss"
   ]
  },
  {
   "cell_type": "code",
   "execution_count": null,
   "metadata": {
    "deletable": false,
    "nbgrader": {
     "cell_type": "code",
     "checksum": "2c3e17b8559f0dfdfecdc8d242aba152",
     "grade": false,
     "grade_id": "MSE_Loss",
     "locked": false,
     "schema_version": 3,
     "solution": true,
     "task": false
    }
   },
   "outputs": [],
   "source": [
    "def MSE_Loss (X, t, w, lamda =0): # Ouput should be a single number\n",
    "    '''\n",
    "    lamda=0 is a default argument to prevent errors if you pass lamda to a function that doesn't need it by mistake. \n",
    "    This allows us to call all loss functions with the same input format.\n",
    "    \n",
    "    You are encouraged read about default arguments by yourself online if you're not familiar.\n",
    "    '''\n",
    "    # YOUR CODE HERE\n",
    "    raise NotImplementedError()"
   ]
  },
  {
   "cell_type": "code",
   "execution_count": null,
   "metadata": {
    "deletable": false,
    "editable": false,
    "nbgrader": {
     "cell_type": "code",
     "checksum": "923a1372a401b41d6ef6b0749a49ff66",
     "grade": true,
     "grade_id": "MSE_Loss_Test",
     "locked": true,
     "points": 2,
     "schema_version": 3,
     "solution": false,
     "task": false
    }
   },
   "outputs": [],
   "source": [
    "'''\n",
    "TEST CASES, DO NOT CHANGE\n",
    "'''\n",
    "''' case 1 '''\n",
    "X=np.array([[3,6,5],[4.5,6.6,6]])\n",
    "t=np.array([4,5.5])\n",
    "w=np.array([2,-1,0.5,1])\n",
    "np.testing.assert_almost_equal(MSE_Loss(X,t,w),0.53,decimal=3)\n"
   ]
  },
  {
   "cell_type": "code",
   "execution_count": null,
   "metadata": {
    "deletable": false,
    "nbgrader": {
     "cell_type": "code",
     "checksum": "b0b3b381c7a3ac5d7dfbb5df647c0d85",
     "grade": false,
     "grade_id": "MAE_Loss",
     "locked": false,
     "schema_version": 3,
     "solution": true,
     "task": false
    }
   },
   "outputs": [],
   "source": [
    "def MAE_Loss (X, t, w, lamda = 0): # Output should be a single number\n",
    "    # YOUR CODE HERE\n",
    "    raise NotImplementedError()"
   ]
  },
  {
   "cell_type": "code",
   "execution_count": null,
   "metadata": {
    "deletable": false,
    "editable": false,
    "nbgrader": {
     "cell_type": "code",
     "checksum": "f11d5fde7220893a9809f2954d18c5e5",
     "grade": true,
     "grade_id": "MAE_Loss_Test",
     "locked": true,
     "points": 2,
     "schema_version": 3,
     "solution": false,
     "task": false
    }
   },
   "outputs": [],
   "source": [
    "'''\n",
    "TEST CASES, DO NOT CHANGE\n",
    "'''\n",
    "''' case 1 '''\n",
    "X=np.array([[3,6,5],[4.5,6.6,6]])\n",
    "t=np.array([4,5.5])\n",
    "w=np.array([2,-1,0.5,1])\n",
    "np.testing.assert_almost_equal(MAE_Loss(X,t,w),0.700,decimal=3)\n"
   ]
  },
  {
   "cell_type": "code",
   "execution_count": null,
   "metadata": {
    "deletable": false,
    "nbgrader": {
     "cell_type": "code",
     "checksum": "a8309762ea56bb6b24bbbf4a19cb16bc",
     "grade": false,
     "grade_id": "L2_Loss",
     "locked": false,
     "schema_version": 3,
     "solution": true,
     "task": false
    }
   },
   "outputs": [],
   "source": [
    "def L2_Loss (X, t, w, lamda): # Output should be a single number based on L2-norm (with sqrt)\n",
    "    ''' Need to specify what inputs are'''\n",
    "    # YOUR CODE HERE\n",
    "    raise NotImplementedError()"
   ]
  },
  {
   "cell_type": "code",
   "execution_count": null,
   "metadata": {
    "deletable": false,
    "editable": false,
    "nbgrader": {
     "cell_type": "code",
     "checksum": "a5a409056f6797cdf8cbfab61b138c37",
     "grade": true,
     "grade_id": "L2_Loss_Test",
     "locked": true,
     "points": 2,
     "schema_version": 3,
     "solution": false,
     "task": false
    }
   },
   "outputs": [],
   "source": [
    "'''\n",
    "TEST CASES, DO NOT CHANGE\n",
    "'''\n",
    "''' case 1 '''\n",
    "X=np.array([[3,6,5],[4.5,6.6,6]])\n",
    "t=np.array([4,5.5])\n",
    "w=np.array([2,-1,0.5,1])\n",
    "np.testing.assert_almost_equal(L2_Loss(X,t,w,0.5),1.675,decimal=3)\n"
   ]
  },
  {
   "cell_type": "code",
   "execution_count": null,
   "metadata": {
    "deletable": false,
    "nbgrader": {
     "cell_type": "code",
     "checksum": "1af69c123815524cdc71c72e09ece638",
     "grade": false,
     "grade_id": "L1_Loss",
     "locked": false,
     "schema_version": 3,
     "solution": true,
     "task": false
    }
   },
   "outputs": [],
   "source": [
    "def L1_Loss (X, t, w, lamda): # Output should be a single number\n",
    "    # YOUR CODE HERE\n",
    "    raise NotImplementedError()"
   ]
  },
  {
   "cell_type": "code",
   "execution_count": null,
   "metadata": {
    "deletable": false,
    "editable": false,
    "nbgrader": {
     "cell_type": "code",
     "checksum": "40224dd69dd8e6499a67271c33701bf4",
     "grade": true,
     "grade_id": "L1_Loss_Test",
     "locked": true,
     "points": 2,
     "schema_version": 3,
     "solution": false,
     "task": false
    }
   },
   "outputs": [],
   "source": [
    "'''\n",
    "TEST CASES, DO NOT CHANGE\n",
    "'''\n",
    "''' case 1 '''\n",
    "X=np.array([[3,6,5],[4.5,6.6,6]])\n",
    "t=np.array([4,5.5])\n",
    "w=np.array([2,-1,0.5,1])\n",
    "np.testing.assert_almost_equal(L1_Loss(X,t,w,0.5),2.280,decimal=3)\n"
   ]
  },
  {
   "cell_type": "code",
   "execution_count": null,
   "metadata": {
    "deletable": false,
    "nbgrader": {
     "cell_type": "code",
     "checksum": "855bd2ded492e567b20f1d9705d9a97a",
     "grade": false,
     "grade_id": "NRMSE_Metric",
     "locked": false,
     "schema_version": 3,
     "solution": true,
     "task": false
    }
   },
   "outputs": [],
   "source": [
    "def NRMSE_Metric (X, t, w, lamda=0): # Output should be a single number. RMSE/std_dev(t)\n",
    "    # YOUR CODE HERE\n",
    "    raise NotImplementedError()"
   ]
  },
  {
   "cell_type": "code",
   "execution_count": null,
   "metadata": {
    "deletable": false,
    "editable": false,
    "nbgrader": {
     "cell_type": "code",
     "checksum": "256795799ceb6dfa0b32ab75e8ef30c4",
     "grade": true,
     "grade_id": "NRMSE_Metric_Test",
     "locked": true,
     "points": 2,
     "schema_version": 3,
     "solution": false,
     "task": false
    }
   },
   "outputs": [],
   "source": [
    "'''\n",
    "TEST CASES, DO NOT CHANGE\n",
    "'''\n",
    "''' Test case 1 '''\n",
    "X=np.array([[3,6,5],[4.5,6.6,6]])\n",
    "t=np.array([4,5.5])\n",
    "w=np.array([2,-1,0.5,1])\n",
    "np.testing.assert_almost_equal(NRMSE_Metric(X,t,w,0.5),0.970,decimal=3)\n"
   ]
  },
  {
   "cell_type": "markdown",
   "metadata": {
    "deletable": false,
    "editable": false,
    "nbgrader": {
     "cell_type": "markdown",
     "checksum": "cc5df30e29bbe17d4bc7aa89210eb5cf",
     "grade": false,
     "grade_id": "Gradient_Title",
     "locked": true,
     "schema_version": 3,
     "solution": false,
     "task": false
    }
   },
   "source": [
    "## Gradient function\n",
    "Each Loss function will have its own gradient function:\n",
    "\n",
    "1. MSE gradient is only for the error\n",
    "2. MAE gradient is only for the error\n",
    "3. L2 gradient is for MSE and L2 regularization, and can call MSE gradient\n",
    "4. L1 gradient is for MSE and L1 regularization, and can call MSE gradient"
   ]
  },
  {
   "cell_type": "code",
   "execution_count": null,
   "metadata": {
    "deletable": false,
    "nbgrader": {
     "cell_type": "code",
     "checksum": "0190492ee216edce701f93e697572fc1",
     "grade": false,
     "grade_id": "MSE_Gradient",
     "locked": false,
     "schema_version": 3,
     "solution": true,
     "task": false
    }
   },
   "outputs": [],
   "source": [
    "def MSE_Gradient (X, t, w, lamda=0): # Output should have the same size as w\n",
    "    # YOUR CODE HERE\n",
    "    raise NotImplementedError()"
   ]
  },
  {
   "cell_type": "code",
   "execution_count": null,
   "metadata": {
    "deletable": false,
    "editable": false,
    "nbgrader": {
     "cell_type": "code",
     "checksum": "d61466927592a8776a8bfa688472bad4",
     "grade": true,
     "grade_id": "MSE_Gradient_Test",
     "locked": true,
     "points": 3,
     "schema_version": 3,
     "solution": false,
     "task": false
    }
   },
   "outputs": [],
   "source": [
    "'''\n",
    "TEST CASES, DO NOT CHANGE\n",
    "'''\n",
    "''' case 1 '''\n",
    "X=np.array([[3,6,5],[4.5,6.6,6]])\n",
    "t=np.array([4,5.5])\n",
    "w=np.array([2,-1,0.5,1])\n",
    "np.testing.assert_array_almost_equal(MSE_Gradient(X,t,w),np.array([2.55, 2.94, 2.9 , 0.4 ]),decimal=3)\n"
   ]
  },
  {
   "cell_type": "code",
   "execution_count": null,
   "metadata": {
    "deletable": false,
    "nbgrader": {
     "cell_type": "code",
     "checksum": "49cc4e37cafad52f41853b4b0e71f89f",
     "grade": false,
     "grade_id": "MAE_Gradient",
     "locked": false,
     "schema_version": 3,
     "solution": true,
     "task": false
    }
   },
   "outputs": [],
   "source": [
    "def MAE_Gradient (X, t, w, lamda=0): # Output should have the same size as w\n",
    "    # YOUR CODE HERE\n",
    "    raise NotImplementedError()"
   ]
  },
  {
   "cell_type": "code",
   "execution_count": null,
   "metadata": {
    "deletable": false,
    "editable": false,
    "nbgrader": {
     "cell_type": "code",
     "checksum": "e1d418bf5351112ae8716877f8bb6359",
     "grade": true,
     "grade_id": "MAE_Gradient_Test",
     "locked": true,
     "points": 3,
     "schema_version": 3,
     "solution": false,
     "task": false
    }
   },
   "outputs": [],
   "source": [
    "'''\n",
    "TEST CASES, DO NOT CHANGE\n",
    "'''\n",
    "''' case 1 '''\n",
    "X=np.array([[3,6,5],[4.5,6.6,6]])\n",
    "t=np.array([4,5.5])\n",
    "w=np.array([2,-1,0.5,1])\n",
    "np.testing.assert_array_almost_equal(MAE_Gradient(X,t,w),np.array([0.75,  0.3 ,  0.5 , 0.]),decimal=3)\n"
   ]
  },
  {
   "cell_type": "code",
   "execution_count": null,
   "metadata": {
    "deletable": false,
    "nbgrader": {
     "cell_type": "code",
     "checksum": "595829c0dd17df55a03d346fac507b4a",
     "grade": false,
     "grade_id": "L2_Gradient",
     "locked": false,
     "schema_version": 3,
     "solution": true,
     "task": false
    }
   },
   "outputs": [],
   "source": [
    "def L2_Gradient (X, t, w, lamda): # Output should have the same size as w\n",
    "    # YOUR CODE HERE\n",
    "    raise NotImplementedError()"
   ]
  },
  {
   "cell_type": "code",
   "execution_count": null,
   "metadata": {
    "deletable": false,
    "editable": false,
    "nbgrader": {
     "cell_type": "code",
     "checksum": "f292b42c3389b24e369234a7210b87bb",
     "grade": true,
     "grade_id": "L2_Gradient_Test",
     "locked": true,
     "points": 3,
     "schema_version": 3,
     "solution": false,
     "task": false
    }
   },
   "outputs": [],
   "source": [
    "'''\n",
    "TEST CASES, DO NOT CHANGE\n",
    "'''\n",
    "''' case 1 '''\n",
    "X=np.array([[3,6,5],[4.5,6.6,6]])\n",
    "t=np.array([4,5.5])\n",
    "w=np.array([2,-1,0.5,1])\n",
    "np.testing.assert_array_almost_equal(L2_Gradient(X,t,w,0.5),np.array([2.986, 2.721, 3.009 , 0.4 ]),decimal=3)\n"
   ]
  },
  {
   "cell_type": "code",
   "execution_count": null,
   "metadata": {
    "deletable": false,
    "nbgrader": {
     "cell_type": "code",
     "checksum": "141736f1feda5aa225e008d749f0015c",
     "grade": false,
     "grade_id": "L1_Gradient",
     "locked": false,
     "schema_version": 3,
     "solution": true,
     "task": false
    }
   },
   "outputs": [],
   "source": [
    "def L1_Gradient (X, t, w, lamda): # Output should have the same size as w\n",
    "    # YOUR CODE HERE\n",
    "    raise NotImplementedError()"
   ]
  },
  {
   "cell_type": "code",
   "execution_count": null,
   "metadata": {
    "deletable": false,
    "editable": false,
    "nbgrader": {
     "cell_type": "code",
     "checksum": "9097b61320e470f429a9f46c7da0b219",
     "grade": true,
     "grade_id": "L1_Gradient_Test",
     "locked": true,
     "points": 3,
     "schema_version": 3,
     "solution": false,
     "task": false
    }
   },
   "outputs": [],
   "source": [
    "'''\n",
    "TEST CASES, DO NOT CHANGE\n",
    "'''\n",
    "''' case 1 '''\n",
    "X=np.array([[3,6,5],[4.5,6.6,6]])\n",
    "t=np.array([4,5.5])\n",
    "w=np.array([2,-1,0.5,1])\n",
    "np.testing.assert_array_almost_equal(L1_Gradient(X,t,w,0.5),np.array([3.05, 2.44, 3.4 , 0.4 ]),decimal=3)\n"
   ]
  },
  {
   "cell_type": "markdown",
   "metadata": {
    "deletable": false,
    "editable": false,
    "nbgrader": {
     "cell_type": "markdown",
     "checksum": "1980a2f831b5e1ddc9b510c22ef502c7",
     "grade": false,
     "grade_id": "Gradient_Desc_Title",
     "locked": true,
     "schema_version": 3,
     "solution": false,
     "task": false
    }
   },
   "source": [
    "## Gradient Descent Function\n"
   ]
  },
  {
   "cell_type": "code",
   "execution_count": null,
   "metadata": {
    "deletable": false,
    "nbgrader": {
     "cell_type": "code",
     "checksum": "78cdd5ffa4590c10e19281722ccd537f",
     "grade": false,
     "grade_id": "Gradient_Descent",
     "locked": false,
     "schema_version": 3,
     "solution": true,
     "task": false
    }
   },
   "outputs": [],
   "source": [
    "def Gradient_Descent (X, X_val, t, t_val, w, lamda, max_iter, epsilon, lr, lossfunc, gradfunc): # See output format in 'return' statement\n",
    "    # YOUR CODE HERE\n",
    "    raise NotImplementedError()\n",
    "    return w_final, train_loss_final, validation_loss_final, validation_NRMSE #You should return variables structured like this.\n",
    "    "
   ]
  },
  {
   "cell_type": "code",
   "execution_count": null,
   "metadata": {
    "deletable": false,
    "editable": false,
    "nbgrader": {
     "cell_type": "code",
     "checksum": "15a67336bed20a51f33820bf615186e8",
     "grade": true,
     "grade_id": "Gradient_Check",
     "locked": true,
     "points": 20,
     "schema_version": 3,
     "solution": false,
     "task": false
    }
   },
   "outputs": [],
   "source": [
    "'''\n",
    "TEST CASES, DO NOT CHANGE\n",
    "'''\n",
    "X=np.array([[23,24],[1,2]])\n",
    "t=np.array([4,5])\n",
    "X_val=np.array([[3,4],[5,6]])\n",
    "t_val=np.array([3,4])\n",
    "w=np.array([3,2,1])\n",
    "results =Gradient_Descent (X, X_val, t, t_val, w, 0.1, 100, 1e-10, 1e-5, L2_Loss,L2_Gradient) \n",
    "np.testing.assert_allclose([results[1]],[697.919],rtol =0.05)\n",
    "np.testing.assert_allclose([results[2]],[20],atol=5) # we expect around 17.5  but some students got 24 which we will also accept\n",
    "#Instructor Values of results[1] and results [2] are 697.919 and 17.512 respectively"
   ]
  },
  {
   "cell_type": "markdown",
   "metadata": {
    "deletable": false,
    "editable": false,
    "nbgrader": {
     "cell_type": "markdown",
     "checksum": "24f327aa6a14590077f907ee8323724c",
     "grade": false,
     "grade_id": "PseudoInvTitle",
     "locked": true,
     "schema_version": 3,
     "solution": false,
     "task": false
    }
   },
   "source": [
    "## Pseudo Inverse Method\n",
    "\n",
    "You have to implement a slightly more advanced version, with L2 penalty:\n",
    "\n",
    "w = (X' X + lambda I)^(-1) X' t.\n",
    "\n",
    "See, for example: Section 2 of https://web.mit.edu/zoya/www/linearRegression.pdf\n",
    "\n",
    "Here, the column of 1's in assumed to be included in X"
   ]
  },
  {
   "cell_type": "code",
   "execution_count": null,
   "metadata": {
    "deletable": false,
    "nbgrader": {
     "cell_type": "code",
     "checksum": "928c9b105c4bcf3c132c7520a140d509",
     "grade": false,
     "grade_id": "PseudoInv",
     "locked": false,
     "schema_version": 3,
     "solution": true,
     "task": false
    }
   },
   "outputs": [],
   "source": [
    "def Pseudo_Inverse (X, t, lamda): # Output should be weight vector\n",
    "    # YOUR CODE HERE\n",
    "    raise NotImplementedError()"
   ]
  },
  {
   "cell_type": "code",
   "execution_count": null,
   "metadata": {
    "deletable": false,
    "editable": false,
    "nbgrader": {
     "cell_type": "code",
     "checksum": "a5178b8280650ed5d1d55dc6bbb38a29",
     "grade": true,
     "grade_id": "PseudoInvTest",
     "locked": true,
     "points": 10,
     "schema_version": 3,
     "solution": false,
     "task": false
    }
   },
   "outputs": [],
   "source": [
    "'''\n",
    "TEST CASES, DO NOT CHANGE\n",
    "'''\n",
    "''' case 1 - other data'''\n",
    "X=np.array([[3,6,5],[4.5,6.6,6]])\n",
    "t=np.array([4,5.5])\n",
    "np.testing.assert_array_almost_equal(Pseudo_Inverse(X,t,0.5),np.array([ 0.491,  0.183,  0.319, -0.002]),decimal=3)"
   ]
  },
  {
   "cell_type": "markdown",
   "metadata": {
    "deletable": false,
    "editable": false,
    "nbgrader": {
     "cell_type": "markdown",
     "checksum": "8748fcc0dc96df6e7bb48a4e315927d3",
     "grade": false,
     "grade_id": "cell-e0fa02d7eecfb851",
     "locked": true,
     "schema_version": 3,
     "solution": false,
     "task": false
    }
   },
   "source": [
    "#... Part 1 ends Below this you be more creative. Just comment out the lines where you save files (e.g. test predictions)."
   ]
  },
  {
   "cell_type": "markdown",
   "metadata": {
    "deletable": false,
    "editable": false,
    "nbgrader": {
     "cell_type": "markdown",
     "checksum": "c9047f75587bfee6b7b0a4b244efc7fa",
     "grade": false,
     "grade_id": "cell-10f0d275f5cd36f6",
     "locked": true,
     "schema_version": 3,
     "solution": false,
     "task": false
    }
   },
   "source": [
    "#**Part 2 begins ...**\n",
    "\n",
    "**Instructions to be loosely followed (except number 8):**\n",
    "\n",
    "1. Add more code and text cells between this and the last cell.\n",
    "2. Read training data from: https://www.ee.iitb.ac.in/~asethi/Dump/TempTrain.csv only. Do not use a local copy of the dataset.\n",
    "3. Find the best lamda for **MSE+lamda*L2(w)** loss function. Plot training and validation RMSE vs. 1/lamda (1/lamda represents model complexity). Print weights, validation RMSE, validation NRMSE for the best lamda.\n",
    "4. Find the best lamda for **MSE+lamda*L1(w)** loss function. Plot training and validation RMSE vs. 1/lamda (1/lamda represents model complexity). Print weights, validation RMSE, validation NRMSE for the best lamda.\n",
    "5. Find the best lamda for the **pseudo-inv method**. Plot training and validation RMSE vs. 1/lamda (1/lamda represents model complexity). Print weights, validation RMSE, validation NRMSE for the best lamda.\n",
    "6. Write your observations and conclusions.\n",
    "7. Read test data from: https://www.ee.iitb.ac.in/~asethi/Dump/TempTest.csv only. Do not use a local copy of the dataset. Predict its dependent (missing last column) using the model with the lowest MSE, RMSE, or NRMSE. Save it as a file RollNo1_RollNo2_1.csv.\n",
    "8. **Disable the prediction csv file saving statement and submit this entire .ipynb file, .py file, and .csv file as a single RollNo1_RollNo2_1.zip file.**\n"
   ]
  },
  {
   "cell_type": "markdown",
   "metadata": {
    "deletable": false,
    "editable": false,
    "nbgrader": {
     "cell_type": "markdown",
     "checksum": "de7f27538e4ad9db84b046b2752843f1",
     "grade": false,
     "grade_id": "cell-8a98f665f9567cec",
     "locked": true,
     "schema_version": 3,
     "solution": false,
     "task": false
    }
   },
   "source": [
    "#**... Part 2 ends.**\n",
    "\n",
    "1. Write the name or roll no.s of friends from outside your group with whom you discussed the assignment here (no penalty for mere discussion without copying code): \n",
    "2. Write the links of sources on the internet referred here (no penalty for mere consultation without copying code): "
   ]
  },
  {
   "cell_type": "code",
   "execution_count": null,
   "metadata": {},
   "outputs": [],
   "source": []
  }
 ],
 "metadata": {
  "kernelspec": {
   "display_name": "Python 3",
   "language": "python",
   "name": "python3"
  },
  "language_info": {
   "codemirror_mode": {
    "name": "ipython",
    "version": 3
   },
   "file_extension": ".py",
   "mimetype": "text/x-python",
   "name": "python",
   "nbconvert_exporter": "python",
   "pygments_lexer": "ipython3",
   "version": "3.8.3"
  }
 },
 "nbformat": 4,
 "nbformat_minor": 4
}
